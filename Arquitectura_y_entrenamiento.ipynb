{
  "nbformat": 4,
  "nbformat_minor": 0,
  "metadata": {
    "colab": {
      "provenance": [],
      "gpuType": "T4",
      "authorship_tag": "ABX9TyPqUc9AuELZzwzvIcIS+efN",
      "include_colab_link": true
    },
    "kernelspec": {
      "name": "python3",
      "display_name": "Python 3"
    },
    "language_info": {
      "name": "python"
    },
    "accelerator": "GPU"
  },
  "cells": [
    {
      "cell_type": "markdown",
      "metadata": {
        "id": "view-in-github",
        "colab_type": "text"
      },
      "source": [
        "<a href=\"https://colab.research.google.com/github/JupaaF/Proyecto_Final_PINNs/blob/main/Arquitectura_y_entrenamiento.ipynb\" target=\"_parent\"><img src=\"https://colab.research.google.com/assets/colab-badge.svg\" alt=\"Open In Colab\"/></a>"
      ]
    },
    {
      "cell_type": "markdown",
      "source": [
        "Lo que esta abajo es el codigo de Lucas, lo copie para probarlo y ver si anda etc etc. No hace metricas relacionando con los valores reales, ni hace test. Hay varias cosas por mejorar desde el lado de Ingeniero de IA digamos. Otra cosa que tenemos uqe verificar es si tomamos el modelo este, y le cambiamos las condiciones de borde, cuanto error genera en las nuevas predicciones si no lo volves a entrenar."
      ],
      "metadata": {
        "id": "PvfUdPE9RYw1"
      }
    },
    {
      "cell_type": "code",
      "execution_count": 17,
      "metadata": {
        "id": "lr6RYQwuJJ3Q"
      },
      "outputs": [],
      "source": [
        "######################################################################################\n",
        "# PINNs para problemas de fluidos. Canal Tesis doctoral Scacchi\n",
        "# El codigo aplica PINNs al ensayo de laboratorio de la tesis de Scacchi implementado hidrodinamicay morfología\n",
        "# Utiliza 3 capas de 50 neuronas, 7000 epocas, y optimizador ADAM\n",
        "# Dominguez Ruben Lucas. FICH-UNL\n",
        "######################################################################################\n",
        "# Importamos librerías\n",
        "\n",
        "#######################################################################################\n",
        "import wandb\n",
        "import torch\n",
        "import torch.nn as nn\n",
        "import numpy as np\n",
        "import matplotlib.pyplot as plt"
      ]
    },
    {
      "cell_type": "code",
      "source": [
        "wandb.init(\n",
        "    # Nombra tu proyecto para que ambos lo usen\n",
        "    project=\"pinns-tesis-scacchi\",\n",
        "    # Guarda los hiperparámetros importantes\n",
        "    config={\n",
        "        \"learning_rate\": 1e-3,\n",
        "        \"epochs\": 7000,\n",
        "        \"n_layers\": 3,\n",
        "        \"n_neurons\": 50,\n",
        "    }\n",
        ")"
      ],
      "metadata": {
        "colab": {
          "base_uri": "https://localhost:8080/",
          "height": 125
        },
        "id": "YPl7U6NHBszv",
        "outputId": "d1b73df1-6247-40c1-cd91-d0f1ae73e9cc"
      },
      "execution_count": 18,
      "outputs": [
        {
          "output_type": "display_data",
          "data": {
            "text/plain": [
              "<IPython.core.display.HTML object>"
            ],
            "text/html": []
          },
          "metadata": {}
        },
        {
          "output_type": "display_data",
          "data": {
            "text/plain": [
              "<IPython.core.display.HTML object>"
            ],
            "text/html": [
              "Tracking run with wandb version 0.22.1"
            ]
          },
          "metadata": {}
        },
        {
          "output_type": "display_data",
          "data": {
            "text/plain": [
              "<IPython.core.display.HTML object>"
            ],
            "text/html": [
              "Run data is saved locally in <code>/content/wandb/run-20251009_173538-swgsuua2</code>"
            ]
          },
          "metadata": {}
        },
        {
          "output_type": "display_data",
          "data": {
            "text/plain": [
              "<IPython.core.display.HTML object>"
            ],
            "text/html": [
              "Syncing run <strong><a href='https://wandb.ai/juanpifernandez7-universidad-nacional-del-litoral/pinns-tesis-scacchi/runs/swgsuua2' target=\"_blank\">cosmic-cherry-2</a></strong> to <a href='https://wandb.ai/juanpifernandez7-universidad-nacional-del-litoral/pinns-tesis-scacchi' target=\"_blank\">Weights & Biases</a> (<a href='https://wandb.me/developer-guide' target=\"_blank\">docs</a>)<br>"
            ]
          },
          "metadata": {}
        },
        {
          "output_type": "display_data",
          "data": {
            "text/plain": [
              "<IPython.core.display.HTML object>"
            ],
            "text/html": [
              " View project at <a href='https://wandb.ai/juanpifernandez7-universidad-nacional-del-litoral/pinns-tesis-scacchi' target=\"_blank\">https://wandb.ai/juanpifernandez7-universidad-nacional-del-litoral/pinns-tesis-scacchi</a>"
            ]
          },
          "metadata": {}
        },
        {
          "output_type": "display_data",
          "data": {
            "text/plain": [
              "<IPython.core.display.HTML object>"
            ],
            "text/html": [
              " View run at <a href='https://wandb.ai/juanpifernandez7-universidad-nacional-del-litoral/pinns-tesis-scacchi/runs/swgsuua2' target=\"_blank\">https://wandb.ai/juanpifernandez7-universidad-nacional-del-litoral/pinns-tesis-scacchi/runs/swgsuua2</a>"
            ]
          },
          "metadata": {}
        },
        {
          "output_type": "execute_result",
          "data": {
            "text/html": [
              "<button onClick=\"this.nextSibling.style.display='block';this.style.display='none';\">Display W&B run</button><iframe src='https://wandb.ai/juanpifernandez7-universidad-nacional-del-litoral/pinns-tesis-scacchi/runs/swgsuua2?jupyter=true' style='border:none;width:100%;height:420px;display:none;'></iframe>"
            ],
            "text/plain": [
              "<wandb.sdk.wandb_run.Run at 0x7ed267671fd0>"
            ]
          },
          "metadata": {},
          "execution_count": 18
        }
      ]
    },
    {
      "cell_type": "code",
      "source": [
        "# START del código\n",
        "# Sirve para quienes tengan CUDA (usarlo en Google Colab)\n",
        "device = torch.device(\"cuda\" if torch.cuda.is_available() else \"cpu\")\n",
        "print(f\"{device}\")"
      ],
      "metadata": {
        "colab": {
          "base_uri": "https://localhost:8080/"
        },
        "id": "ZvYa2LuzMKWm",
        "outputId": "10757b17-4c09-48e7-e629-44413e0a82fe"
      },
      "execution_count": 19,
      "outputs": [
        {
          "output_type": "stream",
          "name": "stdout",
          "text": [
            "cuda\n"
          ]
        }
      ]
    },
    {
      "cell_type": "markdown",
      "source": [
        "Una de las cosas a mejorar es lo siguiente: Aca arriba se definen los parametros para la funcion de error y la generacion de malla. Podriamos hacer que los usuarios mismos carguen estos valores y en base a esto se haga un fine-tuning, pero para eso baja hasta la funcion de error que hay otro problema"
      ],
      "metadata": {
        "id": "QW0DUR-X1PQw"
      }
    },
    {
      "cell_type": "code",
      "source": [
        "######################################################################################\n",
        "# Parametros geometricos del canal\n",
        "######################################################################################\n",
        "L, B = 12.0, 1.48 ## Largo y alto creo que son, los vuelve a utilizar debajo cuando define x e y\n",
        "B_half = B / 2\n",
        "Q = 0.0837  # Discharge (m^2/s)\n",
        "h_left = 0.193  # Inlet depth (m, from uniform flow)  ## Se utiliza para la funcion de perdida de la condicion de contorno\n",
        "h_right = 0.184  # Outlet depth (m) ## Se utiliza para la funcion de perdida de la condicion de contorno, y si no recuerdo mal esto va a ser una condicion de Dirichlet\n",
        "g = 9.81  # Gravity (m/s^2)\n",
        "n = 0.019  # Manning's n\n",
        "S_0 = 0.00072  # Bed slope (no utilizable porque el fondo es plano) ## Literalmente no se usa\n",
        "eps = 1e-6  # Avoid division by zero\n",
        "\n",
        "##################################################################################"
      ],
      "metadata": {
        "id": "NPvV7tU40vEq"
      },
      "execution_count": 20,
      "outputs": []
    },
    {
      "cell_type": "code",
      "source": [
        "# Meyer-Peter Müller bedload transport. Formulación de transporte de fondo (Puede utilizarse otras VanRijn, Engelund Hansen, etc)\n",
        "def q_b(h, u):\n",
        "    tau = h * u**2 + eps\n",
        "    tau_c = 0.047\n",
        "    return torch.where(tau > tau_c, 8 * (tau - tau_c).clamp(min=0)**1.5, torch.zeros_like(tau))"
      ],
      "metadata": {
        "id": "cGhNWOYg0y5R"
      },
      "execution_count": 21,
      "outputs": []
    },
    {
      "cell_type": "code",
      "source": [
        "#################################\n",
        "# Red\n",
        "#################################\n",
        "class PINN2D(nn.Module):\n",
        "    def __init__(self):\n",
        "        super().__init__()\n",
        "        self.net = nn.Sequential(\n",
        "            nn.Linear(2, 50),\n",
        "            nn.Tanh(),\n",
        "            nn.Linear(50, 50),\n",
        "            nn.Tanh(),\n",
        "            nn.Linear(50, 50),\n",
        "            nn.Tanh(),\n",
        "            nn.Linear(50, 3)  # h, u, zb\n",
        "        )\n",
        "\n",
        "    def forward(self, x):\n",
        "        out = self.net(x)\n",
        "        h = torch.nn.functional.softplus(out[:, 0:1]) + 0.1  # Ensure h > 0.1\n",
        "        u = out[:, 1:2]  # Allow negative velocities\n",
        "        zb = out[:, 2:3]  # Flat bed: zb = 0 initially, learned by the network\n",
        "        return torch.cat([h, u, zb], dim=1)"
      ],
      "metadata": {
        "id": "hWyR46mi00lo"
      },
      "execution_count": 22,
      "outputs": []
    },
    {
      "cell_type": "code",
      "source": [
        "# Normalization\n",
        "def normalize(x, xmin, xmax):\n",
        "    return 2 * (x - xmin) / (xmax - xmin) - 1"
      ],
      "metadata": {
        "id": "h0-FqIFU03Xb"
      },
      "execution_count": 23,
      "outputs": []
    },
    {
      "cell_type": "markdown",
      "source": [
        "En la funcion loss_function fijate que no toma como parametros el caudal, ni la altura, etc. No toma ningun parametro configurable arriba, solo toma los valores de la malla. Los valores que se utilizan en la funcion como Q, h_left, etc, son los que estan definidos arriba. Queda estatico para siempre. Lo que podriamos hacer es cambiar esta funcion para que pueda aceptar otros parametros y que cambie la funcion de perdida. De esta forma podriamos hace un fine-tuning con otros parametros mas comodos, sin tener que vovler a definir otra funcion"
      ],
      "metadata": {
        "id": "NzPDtnwe1e_w"
      }
    },
    {
      "cell_type": "code",
      "source": [
        "# Funcion de peridoda de la continuidad (constraint)\n",
        "def loss_function(model, xy_colloc, xy_bc_left, xy_bc_right, xy_bc_wall, xy_bc_con):\n",
        "    xy_colloc.requires_grad = True\n",
        "    huzb = model(xy_colloc)\n",
        "    h, u, zb = huzb[:, 0:1], huzb[:, 1:2], huzb[:, 2:3]\n",
        "\n",
        "    # Gradients\n",
        "    h_grad = torch.autograd.grad(h, xy_colloc, grad_outputs=torch.ones_like(h), create_graph=True)[0]\n",
        "    u_grad = torch.autograd.grad(u, xy_colloc, grad_outputs=torch.ones_like(u), create_graph=True)[0]\n",
        "    zb_grad = torch.autograd.grad(zb, xy_colloc, grad_outputs=torch.ones_like(zb), create_graph=True)[0]\n",
        "\n",
        "    h_x, h_y = h_grad[:, 0:1], h_grad[:, 1:2]\n",
        "    u_x, u_y = u_grad[:, 0:1], u_grad[:, 1:2]\n",
        "    zb_x = zb_grad[:, 0:1]\n",
        "\n",
        "    # Friction slope\n",
        "    Sf = (n**2 * u**2) / (h.clamp(min=0.05)**(4/3))\n",
        "\n",
        "    # PDE residuals\n",
        "    mass_res = h * u - Q / B  # Continuity (v = 0)\n",
        "    mom_x = u * u_x + g * h_x + g * Sf + g * zb_x  # x-momentum, no S_0 (flat bed)\n",
        "\n",
        "    # Exner equation (cambio del fondo)\n",
        "    qb = q_b(h, u)\n",
        "    qb_grad = torch.autograd.grad(qb, xy_colloc, grad_outputs=torch.ones_like(qb), create_graph=True)[0]\n",
        "    dqb_dx = qb_grad[:, 0:1]\n",
        "    zb_t = -dqb_dx / (1 - 0.4)\n",
        "\n",
        "    # Constriction: zero bed evolution (esto es para la zona del estribo)\n",
        "    xy_bc_con.requires_grad = True\n",
        "    huzb_con = model(xy_bc_con)\n",
        "    h_con, u_con, zb_con = huzb_con[:, 0:1], huzb_con[:, 1:2], huzb_con[:, 2:3]\n",
        "    qb_con = q_b(h_con, u_con)\n",
        "    qb_con_grad = torch.autograd.grad(qb_con, xy_bc_con, grad_outputs=torch.ones_like(qb_con), create_graph=True)[0]\n",
        "    dqb_dx_con = qb_con_grad[:, 0:1]\n",
        "    zb_t_con = -dqb_dx_con / (1 - 0.4)\n",
        "\n",
        "    # Boundary conditions\n",
        "    huzb_left = model(xy_bc_left)\n",
        "    huzb_right = model(xy_bc_right)\n",
        "    huzb_wall = model(xy_bc_wall)\n",
        "\n",
        "    loss_bc = torch.mean((huzb_left[:, 0] - h_left)**2)  # Inlet: h = h_left\n",
        "    loss_bc += torch.mean((huzb_left[:, 0] * huzb_left[:, 1] - Q / B)**2)  # Inlet: h*u = Q/B\n",
        "    loss_bc += torch.mean((huzb_right[:, 0] - h_right)**2)  # Outlet: h = h_right\n",
        "    loss_bc += torch.mean(huzb_wall[:, 1]**2)  # Walls: u = 0\n",
        "    loss_bc += torch.mean(huzb_con[:, 1]**2)  # Constriction: u = 0\n",
        "    loss_bc += torch.mean(zb_t_con**2)  # Constriction: zb_t = 0\n",
        "\n",
        "    # Flow continuity constraint: ensure Q = \\int h*u dy across sections\n",
        "    N_y = 50\n",
        "    x_sections = torch.tensor([0.0, 3.0, 6.0, 9.0, 12.0], device=device)\n",
        "    loss_Q = 0.0\n",
        "    y_cross = torch.linspace(-B_half, B_half, N_y, device=device)\n",
        "    dy = B / (N_y - 1)\n",
        "\n",
        "    for x_sec in x_sections:\n",
        "        x_cross = torch.full((N_y,), x_sec, device=device)\n",
        "        xy_cross = torch.stack([x_cross, y_cross], dim=1)\n",
        "        xy_cross_norm = normalize(xy_cross, torch.tensor([0, -B_half], device=device), torch.tensor([L, B_half], device=device))\n",
        "        pred_cross = model(xy_cross_norm)\n",
        "        h_cross, u_cross = pred_cross[:, 0], pred_cross[:, 1]\n",
        "        hu = h_cross * u_cross\n",
        "        Q_calc = torch.trapz(hu, dx=dy)\n",
        "        loss_Q += (Q_calc - Q)**2\n",
        "\n",
        "    loss_Q = loss_Q / len(x_sections)\n",
        "\n",
        "    return (\n",
        "        torch.mean(mass_res**2) +\n",
        "        10 * torch.mean(mom_x**2) +\n",
        "        torch.mean(zb_t**2) +\n",
        "        100 * loss_bc +\n",
        "        100 * loss_Q\n",
        "    )"
      ],
      "metadata": {
        "id": "b31xJVg3049f"
      },
      "execution_count": 24,
      "outputs": []
    },
    {
      "cell_type": "code",
      "source": [
        "# Malla\n",
        "N = 50 #(el numero de colocaciones puede reducirse)\n",
        "x = torch.linspace(0, L, N)\n",
        "y = torch.linspace(-B_half, B_half, N)\n",
        "X, Y = torch.meshgrid(x, y, indexing='ij')\n",
        "xy_colloc = torch.stack([X.flatten(), Y.flatten()], dim=1).to(device)"
      ],
      "metadata": {
        "id": "YZijLrJi0-ck"
      },
      "execution_count": 25,
      "outputs": []
    },
    {
      "cell_type": "code",
      "source": [
        "# Boundary points\n",
        "xy_bc_left = torch.stack([torch.zeros(N), y], dim=1).to(device)\n",
        "xy_bc_right = torch.stack([torch.full((N,), L), y], dim=1).to(device)\n",
        "xy_bc_wall = torch.cat([\n",
        "    torch.stack([x, torch.full_like(x, -B_half)], dim=1),\n",
        "    torch.stack([x, torch.full_like(x, B_half)], dim=1)\n",
        "], dim=0).to(device)"
      ],
      "metadata": {
        "id": "rlNSTosI0_it"
      },
      "execution_count": 26,
      "outputs": []
    },
    {
      "cell_type": "markdown",
      "source": [
        "Aca no entiendo muy bien por que calcula una malla interna para el espigon, pero bueno. De hecho estas variables no se vuelven a usar. Me parece que uso chatgpt jiji"
      ],
      "metadata": {
        "id": "bPbuWyQd2ATa"
      }
    },
    {
      "cell_type": "code",
      "source": [
        "# Posicionamiento del estribo (x = 2.94 to 3.06, y = -0.44 to -0.74)\n",
        "N_con = 50\n",
        "x_con = torch.linspace(2.94, 3.06, N_con)\n",
        "y_con = torch.linspace(-0.44, -0.74, N_con)\n",
        "X_con, Y_con = torch.meshgrid(x_con, y_con, indexing='ij')\n",
        "xy_bc_con = torch.stack([X_con.flatten(), Y_con.flatten()], dim=1).to(device)"
      ],
      "metadata": {
        "id": "26Pc0Jyf1BCc"
      },
      "execution_count": 27,
      "outputs": []
    },
    {
      "cell_type": "code",
      "source": [
        "# Normalize\n",
        "xy_colloc_norm = normalize(xy_colloc, torch.tensor([0, -B_half], device=device), torch.tensor([L, B_half], device=device))\n",
        "xy_bc_left_norm = normalize(xy_bc_left, torch.tensor([0, -B_half], device=device), torch.tensor([L, B_half], device=device))\n",
        "xy_bc_right_norm = normalize(xy_bc_right, torch.tensor([0, -B_half], device=device), torch.tensor([L, B_half], device=device))\n",
        "xy_bc_wall_norm = normalize(xy_bc_wall, torch.tensor([0, -B_half], device=device), torch.tensor([L, B_half], device=device))\n",
        "xy_bc_con_norm = normalize(xy_bc_con, torch.tensor([0, -B_half], device=device), torch.tensor([L, B_half], device=device))"
      ],
      "metadata": {
        "id": "TuJH9bZJ1C-v"
      },
      "execution_count": 28,
      "outputs": []
    },
    {
      "cell_type": "code",
      "source": [
        "# Model and optimizer (udamos ADAM)\n",
        "model = PINN2D().to(device)\n",
        "optimizer = torch.optim.Adam(model.parameters(), lr=1e-3)\n",
        "scheduler = torch.optim.lr_scheduler.StepLR(optimizer, step_size=2000, gamma=0.5)\n",
        "\n",
        "# En caso de usar uno precargado\n",
        "# model.load_state_dict(torch.load('pinn_trained.pth'))"
      ],
      "metadata": {
        "id": "lfK5GmvP1E0E"
      },
      "execution_count": 29,
      "outputs": []
    },
    {
      "cell_type": "markdown",
      "source": [
        "La loss_function deberia obtener el valor ya calculado de la inferencia."
      ],
      "metadata": {
        "id": "xJREYP6C2z2b"
      }
    },
    {
      "cell_type": "code",
      "source": [
        "# Entrenamiento\n",
        "n_steps = 7000 # numero de epocas\n",
        "for step in range(n_steps):\n",
        "    optimizer.zero_grad()\n",
        "    loss = loss_function(model, xy_colloc_norm, xy_bc_left_norm, xy_bc_right_norm, xy_bc_wall_norm, xy_bc_con_norm)\n",
        "    loss.backward()\n",
        "    torch.nn.utils.clip_grad_norm_(model.parameters(), max_norm=0.5)\n",
        "    optimizer.step()\n",
        "    scheduler.step()\n",
        "    if step % 500 == 0:\n",
        "      wandb.log({\"loss\": loss.item()})\n",
        "      print(f\"Step {step}, Loss: {loss.item():.6f}\")\n",
        "\n",
        "# Guardamos el modelo ya entrenado\n",
        "torch.save(model.state_dict(), 'pinn_trained.pth')"
      ],
      "metadata": {
        "id": "Ve41ln_b1Ij9",
        "colab": {
          "base_uri": "https://localhost:8080/"
        },
        "outputId": "3421f57e-bf78-4208-ceb0-48b4465a8af2"
      },
      "execution_count": 30,
      "outputs": [
        {
          "output_type": "stream",
          "name": "stdout",
          "text": [
            "Step 0, Loss: 90.749886\n",
            "Step 500, Loss: 0.171654\n",
            "Step 1000, Loss: 0.175035\n",
            "Step 1500, Loss: 0.121079\n",
            "Step 2000, Loss: 0.081746\n",
            "Step 2500, Loss: 0.065585\n",
            "Step 3000, Loss: 0.059235\n",
            "Step 3500, Loss: 0.046684\n",
            "Step 4000, Loss: 0.043482\n",
            "Step 4500, Loss: 0.036879\n",
            "Step 5000, Loss: 0.033936\n",
            "Step 5500, Loss: 0.031579\n",
            "Step 6000, Loss: 0.029941\n",
            "Step 6500, Loss: 0.028543\n"
          ]
        }
      ]
    },
    {
      "cell_type": "code",
      "source": [
        "# Resultados\n",
        "with torch.no_grad():\n",
        "    pred = model(xy_colloc_norm)\n",
        "    h = pred[:, 0].cpu().reshape(N, N)\n",
        "    u = pred[:, 1].cpu().reshape(N, N)\n",
        "    zb = pred[:, 2].cpu().reshape(N, N)\n",
        "    v = torch.zeros_like(u)  # v = 0\n",
        "\n",
        "# Extraigo la velocidad en diferentes puntos x = 0, 2.7, 3.4 m\n",
        "N_y = 100\n",
        "y_cross = torch.linspace(-B_half, B_half, N_y).to(device)\n",
        "x_positions = [0.0, 2.7, 3.4]\n",
        "u_cross_sections = []\n",
        "\n",
        "with torch.no_grad():\n",
        "    for x_pos in x_positions:\n",
        "        x_cross = torch.full((N_y,), x_pos).to(device)\n",
        "        xy_cross = torch.stack([x_cross, y_cross], dim=1)\n",
        "        xy_cross_norm = normalize(xy_cross, torch.tensor([0, -B_half], device=device), torch.tensor([L, B_half], device=device))\n",
        "        pred_cross = model(xy_cross_norm)\n",
        "        u_cross = pred_cross[:, 1].cpu().numpy()\n",
        "        u_cross_sections.append(u_cross)\n",
        "\n",
        "wandb.finish()\n"
      ],
      "metadata": {
        "id": "dFyfGRtR1MZU",
        "colab": {
          "base_uri": "https://localhost:8080/",
          "height": 319
        },
        "outputId": "69b1453c-07fe-44e6-dbd6-03862d2d09be"
      },
      "execution_count": 31,
      "outputs": [
        {
          "output_type": "display_data",
          "data": {
            "text/plain": [
              "<IPython.core.display.HTML object>"
            ],
            "text/html": []
          },
          "metadata": {}
        },
        {
          "output_type": "display_data",
          "data": {
            "text/plain": [
              "<IPython.core.display.HTML object>"
            ],
            "text/html": [
              "<br>    <style><br>        .wandb-row {<br>            display: flex;<br>            flex-direction: row;<br>            flex-wrap: wrap;<br>            justify-content: flex-start;<br>            width: 100%;<br>        }<br>        .wandb-col {<br>            display: flex;<br>            flex-direction: column;<br>            flex-basis: 100%;<br>            flex: 1;<br>            padding: 10px;<br>        }<br>    </style><br><div class=\"wandb-row\"><div class=\"wandb-col\"><h3>Run history:</h3><br/><table class=\"wandb\"><tr><td>loss</td><td>█▁▁▁▁▁▁▁▁▁▁▁▁▁</td></tr></table><br/></div><div class=\"wandb-col\"><h3>Run summary:</h3><br/><table class=\"wandb\"><tr><td>loss</td><td>0.02854</td></tr></table><br/></div></div>"
            ]
          },
          "metadata": {}
        },
        {
          "output_type": "display_data",
          "data": {
            "text/plain": [
              "<IPython.core.display.HTML object>"
            ],
            "text/html": [
              " View run <strong style=\"color:#cdcd00\">cosmic-cherry-2</strong> at: <a href='https://wandb.ai/juanpifernandez7-universidad-nacional-del-litoral/pinns-tesis-scacchi/runs/swgsuua2' target=\"_blank\">https://wandb.ai/juanpifernandez7-universidad-nacional-del-litoral/pinns-tesis-scacchi/runs/swgsuua2</a><br> View project at: <a href='https://wandb.ai/juanpifernandez7-universidad-nacional-del-litoral/pinns-tesis-scacchi' target=\"_blank\">https://wandb.ai/juanpifernandez7-universidad-nacional-del-litoral/pinns-tesis-scacchi</a><br>Synced 5 W&B file(s), 0 media file(s), 0 artifact file(s) and 0 other file(s)"
            ]
          },
          "metadata": {}
        },
        {
          "output_type": "display_data",
          "data": {
            "text/plain": [
              "<IPython.core.display.HTML object>"
            ],
            "text/html": [
              "Find logs at: <code>./wandb/run-20251009_173538-swgsuua2/logs</code>"
            ]
          },
          "metadata": {}
        }
      ]
    },
    {
      "cell_type": "code",
      "source": [
        "\n",
        "\n",
        "###################################################################################\n",
        "## PLOT\n",
        "###################################################################################\n",
        "\n",
        "# Plot cross-sections\n",
        "plt.figure(figsize=(10, 6))\n",
        "for i, x_pos in enumerate(x_positions):\n",
        "    plt.plot(y_cross.cpu().numpy(), u_cross_sections[i], label=f'x = {x_pos} m')\n",
        "plt.axvspan(-0.74, -0.44, color='gray', alpha=0.3, label='Estribo (x = 2.94–3.06 m)')\n",
        "plt.xlabel('y [m]')\n",
        "plt.ylabel('Velocidad u [m/s]')\n",
        "plt.title('Cortes Transversales de Velocidad en x = 0, 2.7, 3.4 m')\n",
        "plt.legend()\n",
        "plt.grid(True)\n",
        "plt.savefig('velocity_cross_sections_flow_continuity.png')\n",
        "plt.close()\n",
        "\n",
        "# Quiver plot for velocity field\n",
        "fig = plt.figure(figsize=(10, 3))\n",
        "plt.quiver(X.cpu(), Y.cpu(), u, v, color='blue', scale=10)\n",
        "plt.title('Campo de Velocidades (u, v) en Estado Estacionario')\n",
        "plt.xlabel('x [m]')\n",
        "plt.ylabel('y [m]')\n",
        "plt.fill_betweenx(np.linspace(-0.44, -0.74, 10), 2.94, 3.06, color='gray', alpha=0.5)\n",
        "plt.savefig('velocity_field_flow_continuity.png')\n",
        "plt.close()\n",
        "\n",
        "# Contour plots for h, u, zb\n",
        "fig, axs = plt.subplots(3, 1, figsize=(12, 8))\n",
        "cf1 = axs[0].contourf(X.cpu(), Y.cpu(), h, levels=20, cmap='Blues')\n",
        "fig.colorbar(cf1, ax=axs[0])\n",
        "axs[0].set_title('Altura (h)')\n",
        "axs[0].fill_betweenx(np.linspace(-0.44, -0.74, 10), 2.94, 3.06, color='gray', alpha=0.5)\n",
        "\n",
        "cf2 = axs[1].contourf(X.cpu(), Y.cpu(), u, levels=20, cmap='Reds')\n",
        "fig.colorbar(cf2, ax=axs[1])\n",
        "axs[1].set_title('Velocidad (u)')\n",
        "axs[1].fill_betweenx(np.linspace(-0.44, -0.74, 10), 2.94, 3.06, color='gray', alpha=0.5)\n",
        "\n",
        "cf3 = axs[2].contourf(X.cpu(), Y.cpu(), zb, levels=20, cmap='terrain')\n",
        "fig.colorbar(cf3, ax=axs[2])\n",
        "axs[2].set_title('Elevación del Fondo (zb)')\n",
        "axs[2].fill_betweenx(np.linspace(-0.44, -0.74, 10), 2.94, 3.06, color='gray', alpha=0.5)\n",
        "\n",
        "for ax in axs:\n",
        "    ax.set_xlabel('x [m]')\n",
        "    ax.set_ylabel('y [m]')\n",
        "    ax.set_aspect('auto')\n",
        "\n",
        "plt.tight_layout()\n",
        "plt.savefig('contour_plots_flow_continuity.png')\n",
        "plt.close()"
      ],
      "metadata": {
        "id": "--j0ldD9O5Rg"
      },
      "execution_count": 32,
      "outputs": []
    }
  ]
}